{
  "nbformat": 4,
  "nbformat_minor": 0,
  "metadata": {
    "colab": {
      "provenance": [],
      "authorship_tag": "ABX9TyP7wnsCJxl+iSuBaLH1UtUQ",
      "include_colab_link": true
    },
    "kernelspec": {
      "name": "python3",
      "display_name": "Python 3"
    },
    "language_info": {
      "name": "python"
    }
  },
  "cells": [
    {
      "cell_type": "markdown",
      "metadata": {
        "id": "view-in-github",
        "colab_type": "text"
      },
      "source": [
        "<a href=\"https://colab.research.google.com/github/aish466-p/AIML-2025/blob/main/2303A51466_batch_7.ipynb\" target=\"_parent\"><img src=\"https://colab.research.google.com/assets/colab-badge.svg\" alt=\"Open In Colab\"/></a>"
      ]
    },
    {
      "cell_type": "code",
      "execution_count": null,
      "metadata": {
        "id": "0cbpVR5MRIEy"
      },
      "outputs": [],
      "source": []
    },
    {
      "cell_type": "markdown",
      "source": [
        "Prediction of real estate valuation based on geo-referencing\n",
        "\n",
        "1.Identify the top 5 house age values with the most estate value.\n",
        "2.Does the MRT station or stores contribute to real estate value?\n",
        "3.Identify the max and min house price of unit area.\n",
        "4.Predict the date when most transactions happened in real estate.\n",
        "5.Identify the closest distance perimeter for MRT stations, stores for real estate value."
      ],
      "metadata": {
        "id": "wo6oJIOMTZ7S"
      }
    },
    {
      "cell_type": "code",
      "source": [
        "\n",
        "import pandas as pd\n",
        "\n",
        "file_path = '/content/Real estate valuation data set.csv'\n",
        "df = pd.read_csv(file_path)\n",
        "\n",
        "\n",
        "print(df.columns)\n",
        "\n",
        "\n",
        "df.rename(columns={\n",
        "    'X1 transaction date': 'transaction_date',\n",
        "    'X2 house age': 'house_age',\n",
        "    'X3 distance to the nearest MRT station': 'distance_to_MRT',\n",
        "    'X4 number of convenience stores': 'convenience_stores',\n",
        "    'Y house price of unit area': 'price_per_unit_area'\n",
        "}, inplace=True)\n",
        "\n",
        "print(df.columns)\n"
      ],
      "metadata": {
        "colab": {
          "base_uri": "https://localhost:8080/"
        },
        "id": "jbyGJWELh-jM",
        "outputId": "dd84e567-f2dc-4257-9fe3-2e754f4649a7"
      },
      "execution_count": 14,
      "outputs": [
        {
          "output_type": "stream",
          "name": "stdout",
          "text": [
            "Index(['No', 'X1 transaction date', 'X2 house age',\n",
            "       'X3 distance to the nearest MRT station',\n",
            "       'X4 number of convenience stores', 'X5 latitude', 'X6 longitude',\n",
            "       'Y house price of unit area'],\n",
            "      dtype='object')\n",
            "Index(['No', 'transaction_date', 'house_age', 'distance_to_MRT',\n",
            "       'convenience_stores', 'X5 latitude', 'X6 longitude',\n",
            "       'price_per_unit_area'],\n",
            "      dtype='object')\n"
          ]
        }
      ]
    },
    {
      "cell_type": "code",
      "source": [
        "if 'house_age' in df.columns and 'price_per_unit_area' in df.columns:\n",
        "    house_age_value = df.groupby('house_age')['price_per_unit_area'].sum()\n",
        "    top_5_house_ages = house_age_value.sort_values(ascending=False).head(5)\n",
        "    print(\"Top 5 house age values with the most estate value:\")\n",
        "    print(top_5_house_ages)\n",
        "else:\n",
        "    print(\"Columns 'house_age' or 'price_per_unit_area' not found in the dataset.\")\n"
      ],
      "metadata": {
        "colab": {
          "base_uri": "https://localhost:8080/"
        },
        "id": "vHGmQ7ZkiDoT",
        "outputId": "b03ee6c2-3c25-4466-8b93-cca757a07b2d"
      },
      "execution_count": 15,
      "outputs": [
        {
          "output_type": "stream",
          "name": "stdout",
          "text": [
            "Top 5 house age values with the most estate value:\n",
            "house_age\n",
            "0.0     920.3\n",
            "13.3    256.7\n",
            "16.4    255.6\n",
            "1.1     248.9\n",
            "13.6    227.4\n",
            "Name: price_per_unit_area, dtype: float64\n"
          ]
        }
      ]
    },
    {
      "cell_type": "code",
      "source": [
        "if 'distance_to_MRT' in df.columns and 'convenience_stores' in df.columns and 'price_per_unit_area' in df.columns:\n",
        "    mrt_correlation = df['distance_to_MRT'].corr(df['price_per_unit_area'])\n",
        "    stores_correlation = df['convenience_stores'].corr(df['price_per_unit_area'])\n",
        "\n",
        "    print(f\"Correlation between MRT distance and price: {mrt_correlation:.2f}\")\n",
        "    print(f\"Correlation between stores and price: {stores_correlation:.2f}\")\n",
        "\n",
        "    if mrt_correlation < 0:\n",
        "        print(\"Closer MRT stations increase estate value.\")\n",
        "    if stores_correlation > 0:\n",
        "        print(\"More convenience stores increase estate value.\")\n",
        "else:\n",
        "    print(\"Columns 'distance_to_MRT', 'convenience_stores', or 'price_per_unit_area' not found.\")\n"
      ],
      "metadata": {
        "colab": {
          "base_uri": "https://localhost:8080/"
        },
        "id": "-ZjewasfiN6A",
        "outputId": "3870ec43-c379-4f65-f8c8-170f6f774e43"
      },
      "execution_count": 16,
      "outputs": [
        {
          "output_type": "stream",
          "name": "stdout",
          "text": [
            "Correlation between MRT distance and price: -0.67\n",
            "Correlation between stores and price: 0.57\n",
            "Closer MRT stations increase estate value.\n",
            "More convenience stores increase estate value.\n"
          ]
        }
      ]
    },
    {
      "cell_type": "code",
      "source": [
        "if 'price_per_unit_area' in df.columns:\n",
        "    max_price = df['price_per_unit_area'].max()\n",
        "    min_price = df['price_per_unit_area'].min()\n",
        "\n",
        "    max_price_row = df[df['price_per_unit_area'] == max_price]\n",
        "    min_price_row = df[df['price_per_unit_area'] == min_price]\n",
        "\n",
        "    print(\"Maximum house price per unit area:\")\n",
        "    print(max_price_row)\n",
        "\n",
        "    print(\"\\nMinimum house price per unit area:\")\n",
        "    print(min_price_row)\n",
        "else:\n",
        "    print(\"Column 'price_per_unit_area' not found.\")\n"
      ],
      "metadata": {
        "colab": {
          "base_uri": "https://localhost:8080/"
        },
        "id": "AdZX7rKiiSVJ",
        "outputId": "ca167f26-996b-44ce-ec07-ecbb4349fc5d"
      },
      "execution_count": 17,
      "outputs": [
        {
          "output_type": "stream",
          "name": "stdout",
          "text": [
            "Maximum house price per unit area:\n",
            "      No  transaction_date  house_age  distance_to_MRT  convenience_stores  \\\n",
            "270  271          2013.333       10.8         252.5822                   1   \n",
            "\n",
            "     X5 latitude  X6 longitude  price_per_unit_area  \n",
            "270      24.9746     121.53046                117.5  \n",
            "\n",
            "Minimum house price per unit area:\n",
            "      No  transaction_date  house_age  distance_to_MRT  convenience_stores  \\\n",
            "113  114          2013.333       14.8         393.2606                   6   \n",
            "\n",
            "     X5 latitude  X6 longitude  price_per_unit_area  \n",
            "113     24.96172     121.53812                  7.6  \n"
          ]
        }
      ]
    },
    {
      "cell_type": "code",
      "source": [
        "if 'transaction_date' in df.columns:\n",
        "    transaction_counts = df['transaction_date'].value_counts()\n",
        "    most_transactions_date = transaction_counts.idxmax()\n",
        "    most_transactions_count = transaction_counts.max()\n",
        "\n",
        "    print(f\"Date with most transactions: {most_transactions_date} ({most_transactions_count} transactions)\")\n",
        "else:\n",
        "    print(\"Column 'transaction_date' not found.\")\n"
      ],
      "metadata": {
        "colab": {
          "base_uri": "https://localhost:8080/"
        },
        "id": "pRQR7RP1iXMT",
        "outputId": "9954d7f3-af10-4c9d-f0f9-4d21c8bfedba"
      },
      "execution_count": 18,
      "outputs": [
        {
          "output_type": "stream",
          "name": "stdout",
          "text": [
            "Date with most transactions: 2013.417 (58 transactions)\n"
          ]
        }
      ]
    },
    {
      "cell_type": "code",
      "source": [
        "if 'price_per_unit_area' in df.columns and 'distance_to_MRT' in df.columns and 'convenience_stores' in df.columns:\n",
        "    threshold = df['price_per_unit_area'].quantile(0.90)  # Top 10% high-value properties\n",
        "    high_value_properties = df[df['price_per_unit_area'] >= threshold]\n",
        "\n",
        "    closest_MRT_distance = high_value_properties['distance_to_MRT'].min()\n",
        "    closest_store_distance = high_value_properties['convenience_stores'].max()\n",
        "\n",
        "    print(f\"Closest MRT distance for high-value properties: {closest_MRT_distance}\")\n",
        "    print(f\"Closest store count for high-value properties: {closest_store_distance}\")\n",
        "\n",
        "    closest_rows = high_value_properties[\n",
        "        (high_value_properties['distance_to_MRT'] == closest_MRT_distance) |\n",
        "        (high_value_properties['convenience_stores'] == closest_store_distance)\n",
        "    ]\n",
        "    print(\"\\nHigh-value properties with closest MRT and store counts:\")\n",
        "    print(closest_rows)\n",
        "else:\n",
        "    print(\"Columns 'price_per_unit_area', 'distance_to_MRT', or 'convenience_stores' not found.\")\n"
      ],
      "metadata": {
        "colab": {
          "base_uri": "https://localhost:8080/"
        },
        "id": "a9hOWfnBieMa",
        "outputId": "38166c72-dd99-42e1-c834-3653dd14031b"
      },
      "execution_count": 19,
      "outputs": [
        {
          "output_type": "stream",
          "name": "stdout",
          "text": [
            "Closest MRT distance for high-value properties: 49.66105\n",
            "Closest store count for high-value properties: 10\n",
            "\n",
            "High-value properties with closest MRT and store counts:\n",
            "      No  transaction_date  house_age  distance_to_MRT  convenience_stores  \\\n",
            "160  161          2012.917        3.5         49.66105                   8   \n",
            "236  237          2013.167        3.6        373.83890                  10   \n",
            "377  378          2013.333        3.9         49.66105                   8   \n",
            "\n",
            "     X5 latitude  X6 longitude  price_per_unit_area  \n",
            "160     24.95836     121.53756                 57.8  \n",
            "236     24.98322     121.53765                 61.9  \n",
            "377     24.95836     121.53756                 56.8  \n"
          ]
        }
      ]
    }
  ]
}